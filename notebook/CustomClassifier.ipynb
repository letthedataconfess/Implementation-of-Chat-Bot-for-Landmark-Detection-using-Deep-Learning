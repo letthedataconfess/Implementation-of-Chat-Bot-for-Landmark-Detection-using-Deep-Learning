{
 "cells": [
  {
   "cell_type": "markdown",
   "metadata": {
    "colab_type": "text",
    "id": "F1w9zlEYod0-"
   },
   "source": [
    "# **CUSTOM CLASSFIER FOR TEMPLES, BRIDGES, PETROL_PUMPS AND ATMS**\n",
    "\n",
    "---\n",
    "\n"
   ]
  },
  {
   "cell_type": "markdown",
   "metadata": {
    "colab_type": "text",
    "id": "Cay8950YiwGP"
   },
   "source": [
    "**IMPORTING LIBRARIES **"
   ]
  },
  {
   "cell_type": "code",
   "execution_count": 35,
   "metadata": {
    "colab": {
     "base_uri": "https://localhost:8080/",
     "height": 54
    },
    "colab_type": "code",
    "id": "mLF-bo4hdLU8",
    "outputId": "da6ebdf7-e309-4d74-c7ad-984300c9f10f"
   },
   "outputs": [
    {
     "name": "stdout",
     "output_type": "stream",
     "text": [
      "Drive already mounted at /content/drive; to attempt to forcibly remount, call drive.mount(\"/content/drive\", force_remount=True).\n"
     ]
    }
   ],
   "source": [
    "import os\n",
    "import cv2\n",
    "import keras\n",
    "import pandas\n",
    "import numpy as np\n",
    "from random import shuffle\n",
    "from keras import optimizers\n",
    "from keras.models import Model\n",
    "from keras import backend as K\n",
    "from keras.optimizers import SGD\n",
    "from keras.preprocessing import image\n",
    "from keras.utils import np_utils as nu\n",
    "from sklearn.model_selection import train_test_split\n",
    "from keras.applications.inception_v3 import InceptionV3\n",
    "from keras.preprocessing.image import ImageDataGenerator\n",
    "from sklearn.metrics import accuracy_score, confusion_matrix\n",
    "from keras.layers import Dense, GlobalAveragePooling2D, Dropout,Input\n",
    "\n",
    "\n",
    "TRAIN_DIR= 'drive//My Drive//Colab Notebooks//imcop'\n",
    "IMG_SIZE= 299\n",
    "LR= 1e-3\n",
    "from google.colab import drive\n",
    "drive.mount('/content/drive')"
   ]
  },
  {
   "cell_type": "markdown",
   "metadata": {
    "colab_type": "text",
    "id": "fX1Onc82itI-"
   },
   "source": [
    "**LABELER FUNCTION**"
   ]
  },
  {
   "cell_type": "code",
   "execution_count": 0,
   "metadata": {
    "colab": {},
    "colab_type": "code",
    "id": "MrbEk8Eeid_e"
   },
   "outputs": [],
   "source": [
    "def label_img(img):\n",
    "    word_label = img.split('-')[-2]\n",
    "    if word_label == 'temple': return 3\n",
    "    elif word_label == 'bridge': return 1\n",
    "    elif word_label == 'petrol': return 2\n",
    "    elif word_label == 'atm': return 0\n",
    "    else: return 4"
   ]
  },
  {
   "cell_type": "markdown",
   "metadata": {
    "colab_type": "text",
    "id": "Hf-rsURqkBOt"
   },
   "source": [
    "**INPUTING IMAGES LABELING AND SPLITTING IT**"
   ]
  },
  {
   "cell_type": "code",
   "execution_count": 0,
   "metadata": {
    "colab": {},
    "colab_type": "code",
    "id": "tYuW5M3kdLVB"
   },
   "outputs": [],
   "source": [
    "training_xdata=[]\n",
    "training_ydata=[]\n",
    "for img in os.listdir(TRAIN_DIR):\n",
    "    label=label_img(img)\n",
    "    path= os.path.join(TRAIN_DIR, img)\n",
    "    img= cv2.resize(cv2.imread(path),(IMG_SIZE,IMG_SIZE))\n",
    "    training_xdata.append(np.array(img))\n",
    "    training_ydata.append(np.array(label))\n",
    "\n",
    "# np.save('training_xdata.npy', training_xdata)\n",
    "# np.save('training_ydata.npy', training_ydata)"
   ]
  },
  {
   "cell_type": "code",
   "execution_count": 0,
   "metadata": {
    "colab": {},
    "colab_type": "code",
    "id": "BXhfBBeddLVL"
   },
   "outputs": [],
   "source": [
    "X=np.array(training_xdata)\n",
    "Y=np.array(training_ydata)\n",
    "X_train, X_test, Y_train_pre, Y_test_pre = train_test_split(X, Y, test_size = 0.15,random_state=4)\n",
    "Y_train = nu.to_categorical(Y_train_pre)\n",
    "Y_test = nu.to_categorical(Y_test_pre)"
   ]
  },
  {
   "cell_type": "markdown",
   "metadata": {
    "colab_type": "text",
    "id": "-y3h0fOpj44M"
   },
   "source": [
    "**BASE** **MODEL**"
   ]
  },
  {
   "cell_type": "code",
   "execution_count": 0,
   "metadata": {
    "colab": {},
    "colab_type": "code",
    "id": "b4fUaEBfdLWE"
   },
   "outputs": [],
   "source": [
    "input_tensor = Input(shape=(299, 299, 3))  # this assumes K.image_data_format() == 'channels_last'\n",
    "model = InceptionV3(input_tensor=input_tensor, weights='imagenet', include_top=False)\n",
    "\n"
   ]
  },
  {
   "cell_type": "markdown",
   "metadata": {
    "colab_type": "text",
    "id": "LvhSTGwllAFs"
   },
   "source": [
    "**ADDING OUR OWN LAYERS**"
   ]
  },
  {
   "cell_type": "code",
   "execution_count": 0,
   "metadata": {
    "colab": {},
    "colab_type": "code",
    "id": "_BxYYkKRdLWQ"
   },
   "outputs": [],
   "source": [
    "# add a global spatial average pooling layer\n",
    "p = model.output\n",
    "p = GlobalAveragePooling2D()(p)\n",
    "# let's add a fully-connected layer\n",
    "p = Dense(1024, activation='relu')(p)\n",
    "# and a logistic layer --5 classes\n",
    "predictions = Dense(5, activation='softmax')(p)\n",
    "# this is the model we will train\n",
    "myModel = Model(inputs=model.input, outputs=predictions)\n",
    "\n",
    "# first: train only the top layers (which were randomly initialized)\n",
    "# i.e. freeze  convolutional InceptionV3 layers\n",
    "for layer in model.layers:\n",
    "    layer.trainable = True\n",
    "# for layer in myModel.layers[:133]:\n",
    "#    layer.trainable = False\n",
    "# for layer in myModel.layers[133:]:\n",
    "#    layer.trainable = True\n",
    "\n",
    "sgd = optimizers.SGD(lr=LR, momentum=0.9, nesterov=True)\n",
    "myModel.compile(loss='categorical_crossentropy', optimizer=sgd, metrics= ['accuracy'])"
   ]
  },
  {
   "cell_type": "markdown",
   "metadata": {
    "colab_type": "text",
    "id": "2UnBYHLrQ1Dr"
   },
   "source": [
    "**DATA AUGMENTATION**"
   ]
  },
  {
   "cell_type": "code",
   "execution_count": 0,
   "metadata": {
    "colab": {},
    "colab_type": "code",
    "id": "6WT5YK8UQ4JD"
   },
   "outputs": [],
   "source": [
    "datagen = ImageDataGenerator(\n",
    "    featurewise_center=False,\n",
    "    featurewise_std_normalization=False,\n",
    "    rotation_range=10,\n",
    "    width_shift_range=0.2,\n",
    "    height_shift_range=0.2,\n",
    "    horizontal_flip=False)\n",
    "datagen.fit(X_train)"
   ]
  },
  {
   "cell_type": "markdown",
   "metadata": {
    "colab_type": "text",
    "id": "6oxUJ5bglxbC"
   },
   "source": [
    "**TRAINING**\n"
   ]
  },
  {
   "cell_type": "code",
   "execution_count": 42,
   "metadata": {
    "colab": {
     "base_uri": "https://localhost:8080/",
     "height": 1054
    },
    "colab_type": "code",
    "id": "XQaYoVYJdLWu",
    "outputId": "7b9b6154-0d75-444c-d3c4-e6b1df21309b"
   },
   "outputs": [
    {
     "name": "stdout",
     "output_type": "stream",
     "text": [
      "Epoch 1/30\n",
      "16/15 [===============================] - 48s 3s/step - loss: 1.3230 - acc: 0.4699\n",
      "Epoch 2/30\n",
      "16/15 [===============================] - 27s 2s/step - loss: 0.7431 - acc: 0.8647\n",
      "Epoch 3/30\n",
      "16/15 [===============================] - 27s 2s/step - loss: 0.4121 - acc: 0.9261\n",
      "Epoch 4/30\n",
      "16/15 [===============================] - 27s 2s/step - loss: 0.2560 - acc: 0.9511\n",
      "Epoch 5/30\n",
      "16/15 [===============================] - 27s 2s/step - loss: 0.1816 - acc: 0.9511\n",
      "Epoch 6/30\n",
      "16/15 [===============================] - 26s 2s/step - loss: 0.1538 - acc: 0.9599\n",
      "Epoch 7/30\n",
      "16/15 [===============================] - 26s 2s/step - loss: 0.1067 - acc: 0.9862\n",
      "Epoch 8/30\n",
      "16/15 [===============================] - 27s 2s/step - loss: 0.0990 - acc: 0.9812\n",
      "Epoch 9/30\n",
      "16/15 [===============================] - 27s 2s/step - loss: 0.0708 - acc: 0.9900\n",
      "Epoch 10/30\n",
      "16/15 [===============================] - 27s 2s/step - loss: 0.0613 - acc: 0.9950\n",
      "Epoch 11/30\n",
      "16/15 [===============================] - 26s 2s/step - loss: 0.0531 - acc: 0.9912\n",
      "Epoch 12/30\n",
      "16/15 [===============================] - 27s 2s/step - loss: 0.0532 - acc: 0.9937\n",
      "Epoch 13/30\n",
      "16/15 [===============================] - 27s 2s/step - loss: 0.0377 - acc: 0.9975\n",
      "Epoch 14/30\n",
      "16/15 [===============================] - 27s 2s/step - loss: 0.0290 - acc: 0.9987\n",
      "Epoch 15/30\n",
      "16/15 [===============================] - 26s 2s/step - loss: 0.0347 - acc: 0.9975\n",
      "Epoch 16/30\n",
      "16/15 [===============================] - 27s 2s/step - loss: 0.0257 - acc: 0.9987\n",
      "Epoch 17/30\n",
      "16/15 [===============================] - 26s 2s/step - loss: 0.0299 - acc: 0.9962\n",
      "Epoch 18/30\n",
      "16/15 [===============================] - 26s 2s/step - loss: 0.0194 - acc: 1.0000\n",
      "Epoch 19/30\n",
      "16/15 [===============================] - 26s 2s/step - loss: 0.0332 - acc: 0.9950\n",
      "Epoch 20/30\n",
      "16/15 [===============================] - 27s 2s/step - loss: 0.0446 - acc: 0.9912\n",
      "Epoch 21/30\n",
      "16/15 [===============================] - 27s 2s/step - loss: 0.0254 - acc: 0.9937\n",
      "Epoch 22/30\n",
      "16/15 [===============================] - 27s 2s/step - loss: 0.0238 - acc: 0.9987\n",
      "Epoch 23/30\n",
      "16/15 [===============================] - 27s 2s/step - loss: 0.0155 - acc: 1.0000\n",
      "Epoch 24/30\n",
      "16/15 [===============================] - 27s 2s/step - loss: 0.0116 - acc: 1.0000\n",
      "Epoch 25/30\n",
      "16/15 [===============================] - 27s 2s/step - loss: 0.0161 - acc: 0.9962\n",
      "Epoch 26/30\n",
      "16/15 [===============================] - 26s 2s/step - loss: 0.0231 - acc: 0.9950\n",
      "Epoch 27/30\n",
      "16/15 [===============================] - 26s 2s/step - loss: 0.0165 - acc: 0.9975\n",
      "Epoch 28/30\n",
      "16/15 [===============================] - 26s 2s/step - loss: 0.0130 - acc: 1.0000\n",
      "Epoch 29/30\n",
      "16/15 [===============================] - 27s 2s/step - loss: 0.0113 - acc: 0.9987\n",
      "Epoch 30/30\n",
      "16/15 [===============================] - 27s 2s/step - loss: 0.0075 - acc: 1.0000\n"
     ]
    },
    {
     "data": {
      "text/plain": [
       "<keras.callbacks.History at 0x7f56bca95160>"
      ]
     },
     "execution_count": 42,
     "metadata": {
      "tags": []
     },
     "output_type": "execute_result"
    }
   ],
   "source": [
    "\n",
    "#myModel.fit(X_train, Y_train, batch_size=50,epochs=7, verbose=1)\n",
    "myModel.fit_generator(datagen.flow(X_train, Y_train, batch_size=50),steps_per_epoch=len(X_train) / 50, epochs=30, verbose=1)"
   ]
  },
  {
   "cell_type": "markdown",
   "metadata": {
    "colab_type": "text",
    "id": "L9WhmfkBoQQP"
   },
   "source": [
    "**PREDICTION AND ACUURACY**"
   ]
  },
  {
   "cell_type": "code",
   "execution_count": 0,
   "metadata": {
    "colab": {},
    "colab_type": "code",
    "id": "UGF-h0bg8q9T"
   },
   "outputs": [],
   "source": [
    "Y_pred=myModel.predict(X_test)\n"
   ]
  },
  {
   "cell_type": "code",
   "execution_count": 0,
   "metadata": {
    "colab": {},
    "colab_type": "code",
    "id": "KKKDGx_SdLXF"
   },
   "outputs": [],
   "source": [
    "\n",
    "confusion_matrix(np.argmax(Y_pred),np.argmax(Y_test))#Ytest1 is preonhot "
   ]
  },
  {
   "cell_type": "code",
   "execution_count": 64,
   "metadata": {
    "colab": {
     "base_uri": "https://localhost:8080/",
     "height": 34
    },
    "colab_type": "code",
    "id": "7k-CUe_P_qPZ",
    "outputId": "642df066-ebc6-460d-87bc-346f5f194e4f"
   },
   "outputs": [
    {
     "name": "stdout",
     "output_type": "stream",
     "text": [
      "Accuracy: 98.53%\n"
     ]
    }
   ],
   "source": [
    "scores = myModel.evaluate(X_test, Y_test, verbose=0)\n",
    "print(\"Accuracy: %.2f%%\" % (scores[1]*100))"
   ]
  },
  {
   "cell_type": "code",
   "execution_count": 0,
   "metadata": {
    "colab": {},
    "colab_type": "code",
    "id": "RmCnlOdaDLsE"
   },
   "outputs": [],
   "source": [
    "im= cv2.resize(cv2.imread('apparel.png'),(IMG_SIZE,IMG_SIZE))"
   ]
  },
  {
   "cell_type": "code",
   "execution_count": 68,
   "metadata": {
    "colab": {
     "base_uri": "https://localhost:8080/",
     "height": 34
    },
    "colab_type": "code",
    "id": "cMSmJsf4ysxa",
    "outputId": "6cec09a3-7431-4835-80d6-6d3682841046"
   },
   "outputs": [
    {
     "data": {
      "text/plain": [
       "(1, 299, 299, 3)"
      ]
     },
     "execution_count": 68,
     "metadata": {
      "tags": []
     },
     "output_type": "execute_result"
    }
   ],
   "source": [
    "im=im.reshape(1,299,299,3)\n",
    "im.shape"
   ]
  },
  {
   "cell_type": "code",
   "execution_count": 69,
   "metadata": {
    "colab": {
     "base_uri": "https://localhost:8080/",
     "height": 51
    },
    "colab_type": "code",
    "id": "jgxCH030xnKy",
    "outputId": "1d19b20e-a962-441f-a883-bbf893a1f1f7"
   },
   "outputs": [
    {
     "data": {
      "text/plain": [
       "array([[0.04518916, 0.00762212, 0.6553438 , 0.2475257 , 0.04431922]],\n",
       "      dtype=float32)"
      ]
     },
     "execution_count": 69,
     "metadata": {
      "tags": []
     },
     "output_type": "execute_result"
    }
   ],
   "source": [
    "imd=np.array(im)\n",
    "pp=myModel.predict(imd)\n",
    "pp"
   ]
  },
  {
   "cell_type": "code",
   "execution_count": 0,
   "metadata": {
    "colab": {},
    "colab_type": "code",
    "id": "9UaNKGCCyNPR"
   },
   "outputs": [],
   "source": [
    "import pickle\n",
    "pickle.dump(myModel,open('cust_classifier.sav','wb'))"
   ]
  },
  {
   "cell_type": "code",
   "execution_count": 0,
   "metadata": {
    "colab": {},
    "colab_type": "code",
    "id": "uauT-RdXsQzy"
   },
   "outputs": [],
   "source": []
  }
 ],
 "metadata": {
  "accelerator": "GPU",
  "colab": {
   "collapsed_sections": [],
   "name": "CustomClassifier.ipynb",
   "provenance": [],
   "toc_visible": true,
   "version": "0.3.2"
  },
  "kernelspec": {
   "display_name": "Python 3",
   "language": "python",
   "name": "python3"
  },
  "language_info": {
   "codemirror_mode": {
    "name": "ipython",
    "version": 3
   },
   "file_extension": ".py",
   "mimetype": "text/x-python",
   "name": "python",
   "nbconvert_exporter": "python",
   "pygments_lexer": "ipython3",
   "version": "3.7.0"
  }
 },
 "nbformat": 4,
 "nbformat_minor": 1
}
